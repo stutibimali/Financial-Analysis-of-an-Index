{
 "cells": [
  {
   "cell_type": "markdown",
   "id": "d193ea8f-5e7a-4388-a24a-e3900e5a6b5f",
   "metadata": {},
   "source": [
   
   ]
  },
  {
   "cell_type": "markdown",
   "id": "e629797b-6480-4059-9d86-fb6f7beb34b1",
   "metadata": {},
   "source": [
    "### Financial Analysis of an Index\n",
    "#### About S&P\n",
    "The Standard and Poor's 500, or simply the S&P 500, is a stock market index tracking the stock performance of 500 of the largest companies listed on stock exchanges in the United States. It is one of the most commonly followed equity indices and includes approximately 80% of the total market capitalization of U.S. public companies, with an aggregate market cap of more than $43 trillion as of January 2024.\n",
    "Following is the URL to a dataset that updates regularly and provides list of S&P constituents in CSV format."
   ]
  },
  {
   "cell_type": "markdown",
   "id": "431f10b9-14c5-438d-913f-793feb576b7b",
   "metadata": {},
   "source": [
    "### Q1: House keeping"
   ]
  },
  {
   "cell_type": "markdown",
   "id": "49e8db00-2f3e-4fb0-8655-b8e359971948",
   "metadata": {},
   "source": [
    "#### 1.1 Load data into a Pandas dataframe."
   ]
  },
  {
   "cell_type": "code",
   "execution_count": 1,
   "id": "5a6fade2-2917-4045-9878-9140ee1a7aa0",
   "metadata": {},
   "outputs": [
    {
     "data": {
      "text/html": [
       "<div>\n",
       "<style scoped>\n",
       "    .dataframe tbody tr th:only-of-type {\n",
       "        vertical-align: middle;\n",
       "    }\n",
       "\n",
       "    .dataframe tbody tr th {\n",
       "        vertical-align: top;\n",
       "    }\n",
       "\n",
       "    .dataframe thead th {\n",
       "        text-align: right;\n",
       "    }\n",
       "</style>\n",
       "<table border=\"1\" class=\"dataframe\">\n",
       "  <thead>\n",
       "    <tr style=\"text-align: right;\">\n",
       "      <th></th>\n",
       "      <th>Symbol</th>\n",
       "      <th>Name</th>\n",
       "      <th>Sector</th>\n",
       "      <th>Price</th>\n",
       "      <th>Price/Earnings</th>\n",
       "      <th>Dividend Yield</th>\n",
       "      <th>Earnings/Share</th>\n",
       "      <th>52 Week Low</th>\n",
       "      <th>52 Week High</th>\n",
       "      <th>Market Cap</th>\n",
       "      <th>EBITDA</th>\n",
       "      <th>Price/Sales</th>\n",
       "      <th>Price/Book</th>\n",
       "      <th>SEC Filings</th>\n",
       "    </tr>\n",
       "  </thead>\n",
       "  <tbody>\n",
       "    <tr>\n",
       "      <th>0</th>\n",
       "      <td>MMM</td>\n",
       "      <td>3M</td>\n",
       "      <td>Industrial Conglomerates</td>\n",
       "      <td>128.47</td>\n",
       "      <td>13.368367</td>\n",
       "      <td>0.0220</td>\n",
       "      <td>9.61</td>\n",
       "      <td>75.652176</td>\n",
       "      <td>141.34</td>\n",
       "      <td>6.995949e+10</td>\n",
       "      <td>8.117000e+09</td>\n",
       "      <td>2.143498</td>\n",
       "      <td>15.071563</td>\n",
       "      <td>http://www.sec.gov/cgi-bin/browse-edgar?action...</td>\n",
       "    </tr>\n",
       "    <tr>\n",
       "      <th>1</th>\n",
       "      <td>AOS</td>\n",
       "      <td>A. O. Smith</td>\n",
       "      <td>Building Products</td>\n",
       "      <td>75.10</td>\n",
       "      <td>19.815304</td>\n",
       "      <td>0.0179</td>\n",
       "      <td>3.79</td>\n",
       "      <td>70.300000</td>\n",
       "      <td>92.45</td>\n",
       "      <td>1.100658e+10</td>\n",
       "      <td>8.091000e+08</td>\n",
       "      <td>2.826694</td>\n",
       "      <td>5.681216</td>\n",
       "      <td>http://www.sec.gov/cgi-bin/browse-edgar?action...</td>\n",
       "    </tr>\n",
       "    <tr>\n",
       "      <th>2</th>\n",
       "      <td>ABT</td>\n",
       "      <td>Abbott Laboratories</td>\n",
       "      <td>Health Care Equipment</td>\n",
       "      <td>113.37</td>\n",
       "      <td>34.564026</td>\n",
       "      <td>0.0192</td>\n",
       "      <td>3.28</td>\n",
       "      <td>92.430000</td>\n",
       "      <td>121.64</td>\n",
       "      <td>1.972525e+11</td>\n",
       "      <td>1.064100e+10</td>\n",
       "      <td>4.785706</td>\n",
       "      <td>5.016816</td>\n",
       "      <td>http://www.sec.gov/cgi-bin/browse-edgar?action...</td>\n",
       "    </tr>\n",
       "    <tr>\n",
       "      <th>3</th>\n",
       "      <td>ABBV</td>\n",
       "      <td>AbbVie</td>\n",
       "      <td>Biotechnology</td>\n",
       "      <td>203.87</td>\n",
       "      <td>71.283220</td>\n",
       "      <td>0.0327</td>\n",
       "      <td>2.86</td>\n",
       "      <td>135.850000</td>\n",
       "      <td>207.32</td>\n",
       "      <td>3.601037e+11</td>\n",
       "      <td>2.612100e+10</td>\n",
       "      <td>6.547340</td>\n",
       "      <td>34.748592</td>\n",
       "      <td>http://www.sec.gov/cgi-bin/browse-edgar?action...</td>\n",
       "    </tr>\n",
       "    <tr>\n",
       "      <th>4</th>\n",
       "      <td>ACN</td>\n",
       "      <td>Accenture</td>\n",
       "      <td>IT Consulting &amp; Other Services</td>\n",
       "      <td>344.82</td>\n",
       "      <td>30.115286</td>\n",
       "      <td>0.0171</td>\n",
       "      <td>11.45</td>\n",
       "      <td>278.690000</td>\n",
       "      <td>387.51</td>\n",
       "      <td>2.165563e+11</td>\n",
       "      <td>1.106591e+10</td>\n",
       "      <td>3.336950</td>\n",
       "      <td>7.621679</td>\n",
       "      <td>http://www.sec.gov/cgi-bin/browse-edgar?action...</td>\n",
       "    </tr>\n",
       "    <tr>\n",
       "      <th>...</th>\n",
       "      <td>...</td>\n",
       "      <td>...</td>\n",
       "      <td>...</td>\n",
       "      <td>...</td>\n",
       "      <td>...</td>\n",
       "      <td>...</td>\n",
       "      <td>...</td>\n",
       "      <td>...</td>\n",
       "      <td>...</td>\n",
       "      <td>...</td>\n",
       "      <td>...</td>\n",
       "      <td>...</td>\n",
       "      <td>...</td>\n",
       "      <td>...</td>\n",
       "    </tr>\n",
       "    <tr>\n",
       "      <th>498</th>\n",
       "      <td>XYL</td>\n",
       "      <td>Xylem Inc.</td>\n",
       "      <td>Industrial Machinery &amp; Supplies &amp; Components</td>\n",
       "      <td>121.78</td>\n",
       "      <td>34.994250</td>\n",
       "      <td>0.0111</td>\n",
       "      <td>3.48</td>\n",
       "      <td>93.860000</td>\n",
       "      <td>146.08</td>\n",
       "      <td>3.162956e+10</td>\n",
       "      <td>1.622000e+09</td>\n",
       "      <td>3.767217</td>\n",
       "      <td>2.892980</td>\n",
       "      <td>http://www.sec.gov/cgi-bin/browse-edgar?action...</td>\n",
       "    </tr>\n",
       "    <tr>\n",
       "      <th>499</th>\n",
       "      <td>YUM</td>\n",
       "      <td>Yum! Brands</td>\n",
       "      <td>Restaurants</td>\n",
       "      <td>131.16</td>\n",
       "      <td>24.021978</td>\n",
       "      <td>0.0204</td>\n",
       "      <td>5.46</td>\n",
       "      <td>122.790000</td>\n",
       "      <td>143.20</td>\n",
       "      <td>3.750454e+10</td>\n",
       "      <td>2.627000e+09</td>\n",
       "      <td>5.278613</td>\n",
       "      <td>NaN</td>\n",
       "      <td>http://www.sec.gov/cgi-bin/browse-edgar?action...</td>\n",
       "    </tr>\n",
       "    <tr>\n",
       "      <th>500</th>\n",
       "      <td>ZBRA</td>\n",
       "      <td>Zebra Technologies</td>\n",
       "      <td>Electronic Equipment &amp; Instruments</td>\n",
       "      <td>381.97</td>\n",
       "      <td>51.827682</td>\n",
       "      <td>NaN</td>\n",
       "      <td>7.37</td>\n",
       "      <td>198.190000</td>\n",
       "      <td>394.57</td>\n",
       "      <td>1.983467e+10</td>\n",
       "      <td>8.030000e+08</td>\n",
       "      <td>4.260024</td>\n",
       "      <td>5.754900</td>\n",
       "      <td>http://www.sec.gov/cgi-bin/browse-edgar?action...</td>\n",
       "    </tr>\n",
       "    <tr>\n",
       "      <th>501</th>\n",
       "      <td>ZBH</td>\n",
       "      <td>Zimmer Biomet</td>\n",
       "      <td>Health Care Equipment</td>\n",
       "      <td>106.92</td>\n",
       "      <td>20.404581</td>\n",
       "      <td>0.0087</td>\n",
       "      <td>5.24</td>\n",
       "      <td>101.470000</td>\n",
       "      <td>133.90</td>\n",
       "      <td>2.128499e+10</td>\n",
       "      <td>2.541400e+09</td>\n",
       "      <td>2.802316</td>\n",
       "      <td>1.746716</td>\n",
       "      <td>http://www.sec.gov/cgi-bin/browse-edgar?action...</td>\n",
       "    </tr>\n",
       "    <tr>\n",
       "      <th>502</th>\n",
       "      <td>ZTS</td>\n",
       "      <td>Zoetis</td>\n",
       "      <td>Pharmaceuticals</td>\n",
       "      <td>178.78</td>\n",
       "      <td>35.054900</td>\n",
       "      <td>0.0097</td>\n",
       "      <td>5.10</td>\n",
       "      <td>144.800000</td>\n",
       "      <td>201.92</td>\n",
       "      <td>8.279051e+10</td>\n",
       "      <td>3.645000e+09</td>\n",
       "      <td>9.286653</td>\n",
       "      <td>16.337385</td>\n",
       "      <td>http://www.sec.gov/cgi-bin/browse-edgar?action...</td>\n",
       "    </tr>\n",
       "  </tbody>\n",
       "</table>\n",
       "<p>503 rows × 14 columns</p>\n",
       "</div>"
      ],
      "text/plain": [
       "    Symbol                 Name                                        Sector  \\\n",
       "0      MMM                   3M                      Industrial Conglomerates   \n",
       "1      AOS          A. O. Smith                             Building Products   \n",
       "2      ABT  Abbott Laboratories                         Health Care Equipment   \n",
       "3     ABBV               AbbVie                                 Biotechnology   \n",
       "4      ACN            Accenture                IT Consulting & Other Services   \n",
       "..     ...                  ...                                           ...   \n",
       "498    XYL           Xylem Inc.  Industrial Machinery & Supplies & Components   \n",
       "499    YUM          Yum! Brands                                   Restaurants   \n",
       "500   ZBRA   Zebra Technologies            Electronic Equipment & Instruments   \n",
       "501    ZBH        Zimmer Biomet                         Health Care Equipment   \n",
       "502    ZTS               Zoetis                               Pharmaceuticals   \n",
       "\n",
       "      Price  Price/Earnings  Dividend Yield  Earnings/Share  52 Week Low  \\\n",
       "0    128.47       13.368367          0.0220            9.61    75.652176   \n",
       "1     75.10       19.815304          0.0179            3.79    70.300000   \n",
       "2    113.37       34.564026          0.0192            3.28    92.430000   \n",
       "3    203.87       71.283220          0.0327            2.86   135.850000   \n",
       "4    344.82       30.115286          0.0171           11.45   278.690000   \n",
       "..      ...             ...             ...             ...          ...   \n",
       "498  121.78       34.994250          0.0111            3.48    93.860000   \n",
       "499  131.16       24.021978          0.0204            5.46   122.790000   \n",
       "500  381.97       51.827682             NaN            7.37   198.190000   \n",
       "501  106.92       20.404581          0.0087            5.24   101.470000   \n",
       "502  178.78       35.054900          0.0097            5.10   144.800000   \n",
       "\n",
       "     52 Week High    Market Cap        EBITDA  Price/Sales  Price/Book  \\\n",
       "0          141.34  6.995949e+10  8.117000e+09     2.143498   15.071563   \n",
       "1           92.45  1.100658e+10  8.091000e+08     2.826694    5.681216   \n",
       "2          121.64  1.972525e+11  1.064100e+10     4.785706    5.016816   \n",
       "3          207.32  3.601037e+11  2.612100e+10     6.547340   34.748592   \n",
       "4          387.51  2.165563e+11  1.106591e+10     3.336950    7.621679   \n",
       "..            ...           ...           ...          ...         ...   \n",
       "498        146.08  3.162956e+10  1.622000e+09     3.767217    2.892980   \n",
       "499        143.20  3.750454e+10  2.627000e+09     5.278613         NaN   \n",
       "500        394.57  1.983467e+10  8.030000e+08     4.260024    5.754900   \n",
       "501        133.90  2.128499e+10  2.541400e+09     2.802316    1.746716   \n",
       "502        201.92  8.279051e+10  3.645000e+09     9.286653   16.337385   \n",
       "\n",
       "                                           SEC Filings  \n",
       "0    http://www.sec.gov/cgi-bin/browse-edgar?action...  \n",
       "1    http://www.sec.gov/cgi-bin/browse-edgar?action...  \n",
       "2    http://www.sec.gov/cgi-bin/browse-edgar?action...  \n",
       "3    http://www.sec.gov/cgi-bin/browse-edgar?action...  \n",
       "4    http://www.sec.gov/cgi-bin/browse-edgar?action...  \n",
       "..                                                 ...  \n",
       "498  http://www.sec.gov/cgi-bin/browse-edgar?action...  \n",
       "499  http://www.sec.gov/cgi-bin/browse-edgar?action...  \n",
       "500  http://www.sec.gov/cgi-bin/browse-edgar?action...  \n",
       "501  http://www.sec.gov/cgi-bin/browse-edgar?action...  \n",
       "502  http://www.sec.gov/cgi-bin/browse-edgar?action...  \n",
       "\n",
       "[503 rows x 14 columns]"
      ]
     },
     "execution_count": 1,
     "metadata": {},
     "output_type": "execute_result"
    }
   ],
   "source": [
    "import pandas as pd\n",
    "df = pd.read_csv(\"https://raw.githubusercontent.com/datasets/s-and-p-500-companies-financials/refs/heads/main/data/constituents-financials.csv\")\n",
    "df"
   ]
  },
  {
   "cell_type": "code",
   "execution_count": null,
   "id": "ad7c12dd-3254-4e61-8fc0-00646ec54127",
   "metadata": {},
   "outputs": [],
   "source": []
  },
  {
   "cell_type": "markdown",
   "id": "325b4281-7dfd-4e98-86e8-1b0da0313793",
   "metadata": {},
   "source": [
    "#### 1.2 Rename columns to remove spaces."
   ]
  },
  {
   "cell_type": "code",
   "execution_count": 2,
   "id": "6f5eae56-1721-4c79-95d4-64f47e2b41b4",
   "metadata": {},
   "outputs": [
    {
     "data": {
      "text/plain": [
       "Index(['Symbol', 'Name', 'Sector', 'Price', 'Price/Earnings', 'Dividend Yield',\n",
       "       'Earnings/Share', '52 Week Low', '52 Week High', 'Market Cap', 'EBITDA',\n",
       "       'Price/Sales', 'Price/Book', 'SEC Filings'],\n",
       "      dtype='object')"
      ]
     },
     "execution_count": 2,
     "metadata": {},
     "output_type": "execute_result"
    }
   ],
   "source": [
    "df.columns"
   ]
  },
  {
   "cell_type": "code",
   "execution_count": 3,
   "id": "9a763e2f-eee1-4517-addd-afb27f9795d3",
   "metadata": {},
   "outputs": [
    {
     "data": {
      "text/plain": [
       "Index(['Symbol', 'Name', 'Sector', 'Price', 'Price/Earnings', 'DividendYield',\n",
       "       'Earnings/Share', '52WeekLow', '52WeekHigh', 'MarketCap', 'EBITDA',\n",
       "       'Price/Sales', 'Price/Book', 'SECFilings'],\n",
       "      dtype='object')"
      ]
     },
     "execution_count": 3,
     "metadata": {},
     "output_type": "execute_result"
    }
   ],
   "source": [
    "df.columns = df.columns.str.replace(\" \", \"\")\n",
    "df.columns"
   ]
  },
  {
   "cell_type": "code",
   "execution_count": null,
   "id": "4c20aa8e-fed0-4490-9017-cc2772ed84e3",
   "metadata": {},
   "outputs": [],
   "source": []
  },
  {
   "cell_type": "markdown",
   "id": "d40a93ce-ff2a-4a5d-bbc1-08ff7fd842b7",
   "metadata": {},
   "source": [
    "#### 1.3 Convert \"Market Cap\" in Billions"
   ]
  },
  {
   "cell_type": "code",
   "execution_count": 4,
   "id": "87c18b88-c089-47cc-9acd-6ec4efdad0e9",
   "metadata": {},
   "outputs": [
    {
     "data": {
      "text/html": [
       "<div>\n",
       "<style scoped>\n",
       "    .dataframe tbody tr th:only-of-type {\n",
       "        vertical-align: middle;\n",
       "    }\n",
       "\n",
       "    .dataframe tbody tr th {\n",
       "        vertical-align: top;\n",
       "    }\n",
       "\n",
       "    .dataframe thead th {\n",
       "        text-align: right;\n",
       "    }\n",
       "</style>\n",
       "<table border=\"1\" class=\"dataframe\">\n",
       "  <thead>\n",
       "    <tr style=\"text-align: right;\">\n",
       "      <th></th>\n",
       "      <th>Name</th>\n",
       "      <th>MarketCap</th>\n",
       "    </tr>\n",
       "  </thead>\n",
       "  <tbody>\n",
       "    <tr>\n",
       "      <th>498</th>\n",
       "      <td>Xylem Inc.</td>\n",
       "      <td>3.162956e+10</td>\n",
       "    </tr>\n",
       "    <tr>\n",
       "      <th>499</th>\n",
       "      <td>Yum! Brands</td>\n",
       "      <td>3.750454e+10</td>\n",
       "    </tr>\n",
       "    <tr>\n",
       "      <th>500</th>\n",
       "      <td>Zebra Technologies</td>\n",
       "      <td>1.983467e+10</td>\n",
       "    </tr>\n",
       "    <tr>\n",
       "      <th>501</th>\n",
       "      <td>Zimmer Biomet</td>\n",
       "      <td>2.128499e+10</td>\n",
       "    </tr>\n",
       "    <tr>\n",
       "      <th>502</th>\n",
       "      <td>Zoetis</td>\n",
       "      <td>8.279051e+10</td>\n",
       "    </tr>\n",
       "  </tbody>\n",
       "</table>\n",
       "</div>"
      ],
      "text/plain": [
       "                   Name     MarketCap\n",
       "498          Xylem Inc.  3.162956e+10\n",
       "499         Yum! Brands  3.750454e+10\n",
       "500  Zebra Technologies  1.983467e+10\n",
       "501       Zimmer Biomet  2.128499e+10\n",
       "502              Zoetis  8.279051e+10"
      ]
     },
     "execution_count": 4,
     "metadata": {},
     "output_type": "execute_result"
    }
   ],
   "source": [
    "df[['Name','MarketCap']].tail()"
   ]
  },
  {
   "cell_type": "code",
   "execution_count": 5,
   "id": "bbe27280-574f-41eb-a942-100a23adc204",
   "metadata": {},
   "outputs": [
    {
     "data": {
      "text/html": [
       "<div>\n",
       "<style scoped>\n",
       "    .dataframe tbody tr th:only-of-type {\n",
       "        vertical-align: middle;\n",
       "    }\n",
       "\n",
       "    .dataframe tbody tr th {\n",
       "        vertical-align: top;\n",
       "    }\n",
       "\n",
       "    .dataframe thead th {\n",
       "        text-align: right;\n",
       "    }\n",
       "</style>\n",
       "<table border=\"1\" class=\"dataframe\">\n",
       "  <thead>\n",
       "    <tr style=\"text-align: right;\">\n",
       "      <th></th>\n",
       "      <th>Name</th>\n",
       "      <th>MarketCap</th>\n",
       "    </tr>\n",
       "  </thead>\n",
       "  <tbody>\n",
       "    <tr>\n",
       "      <th>498</th>\n",
       "      <td>Xylem Inc.</td>\n",
       "      <td>31.629556</td>\n",
       "    </tr>\n",
       "    <tr>\n",
       "      <th>499</th>\n",
       "      <td>Yum! Brands</td>\n",
       "      <td>37.504545</td>\n",
       "    </tr>\n",
       "    <tr>\n",
       "      <th>500</th>\n",
       "      <td>Zebra Technologies</td>\n",
       "      <td>19.834671</td>\n",
       "    </tr>\n",
       "    <tr>\n",
       "      <th>501</th>\n",
       "      <td>Zimmer Biomet</td>\n",
       "      <td>21.284991</td>\n",
       "    </tr>\n",
       "    <tr>\n",
       "      <th>502</th>\n",
       "      <td>Zoetis</td>\n",
       "      <td>82.790515</td>\n",
       "    </tr>\n",
       "  </tbody>\n",
       "</table>\n",
       "</div>"
      ],
      "text/plain": [
       "                   Name  MarketCap\n",
       "498          Xylem Inc.  31.629556\n",
       "499         Yum! Brands  37.504545\n",
       "500  Zebra Technologies  19.834671\n",
       "501       Zimmer Biomet  21.284991\n",
       "502              Zoetis  82.790515"
      ]
     },
     "execution_count": 5,
     "metadata": {},
     "output_type": "execute_result"
    }
   ],
   "source": [
    "df['MarketCap'] = df['MarketCap'] / (10**9)\n",
    "df[['Name','MarketCap']].tail()"
   ]
  },
  {
   "cell_type": "code",
   "execution_count": null,
   "id": "7946c19f-e18b-4a2c-b6ac-763b91bc2295",
   "metadata": {},
   "outputs": [],
   "source": []
  },
  {
   "cell_type": "markdown",
   "id": "fac9a666-807b-40bf-8e90-c9ec3f990dc5",
   "metadata": {},
   "source": [
    "#### 1.4 Convert \"EBITDA\" in Millions."
   ]
  },
  {
   "cell_type": "code",
   "execution_count": 6,
   "id": "affbb8c0-0782-482a-aea4-98a8ca01705d",
   "metadata": {},
   "outputs": [
    {
     "data": {
      "text/html": [
       "<div>\n",
       "<style scoped>\n",
       "    .dataframe tbody tr th:only-of-type {\n",
       "        vertical-align: middle;\n",
       "    }\n",
       "\n",
       "    .dataframe tbody tr th {\n",
       "        vertical-align: top;\n",
       "    }\n",
       "\n",
       "    .dataframe thead th {\n",
       "        text-align: right;\n",
       "    }\n",
       "</style>\n",
       "<table border=\"1\" class=\"dataframe\">\n",
       "  <thead>\n",
       "    <tr style=\"text-align: right;\">\n",
       "      <th></th>\n",
       "      <th>Name</th>\n",
       "      <th>EBITDA</th>\n",
       "    </tr>\n",
       "  </thead>\n",
       "  <tbody>\n",
       "    <tr>\n",
       "      <th>498</th>\n",
       "      <td>Xylem Inc.</td>\n",
       "      <td>1.622000e+09</td>\n",
       "    </tr>\n",
       "    <tr>\n",
       "      <th>499</th>\n",
       "      <td>Yum! Brands</td>\n",
       "      <td>2.627000e+09</td>\n",
       "    </tr>\n",
       "    <tr>\n",
       "      <th>500</th>\n",
       "      <td>Zebra Technologies</td>\n",
       "      <td>8.030000e+08</td>\n",
       "    </tr>\n",
       "    <tr>\n",
       "      <th>501</th>\n",
       "      <td>Zimmer Biomet</td>\n",
       "      <td>2.541400e+09</td>\n",
       "    </tr>\n",
       "    <tr>\n",
       "      <th>502</th>\n",
       "      <td>Zoetis</td>\n",
       "      <td>3.645000e+09</td>\n",
       "    </tr>\n",
       "  </tbody>\n",
       "</table>\n",
       "</div>"
      ],
      "text/plain": [
       "                   Name        EBITDA\n",
       "498          Xylem Inc.  1.622000e+09\n",
       "499         Yum! Brands  2.627000e+09\n",
       "500  Zebra Technologies  8.030000e+08\n",
       "501       Zimmer Biomet  2.541400e+09\n",
       "502              Zoetis  3.645000e+09"
      ]
     },
     "execution_count": 6,
     "metadata": {},
     "output_type": "execute_result"
    }
   ],
   "source": [
    "df[['Name', 'EBITDA']].tail()"
   ]
  },
  {
   "cell_type": "code",
   "execution_count": 7,
   "id": "28d3ac2e-fc44-46ac-b698-9467fe87f6db",
   "metadata": {},
   "outputs": [
    {
     "data": {
      "text/html": [
       "<div>\n",
       "<style scoped>\n",
       "    .dataframe tbody tr th:only-of-type {\n",
       "        vertical-align: middle;\n",
       "    }\n",
       "\n",
       "    .dataframe tbody tr th {\n",
       "        vertical-align: top;\n",
       "    }\n",
       "\n",
       "    .dataframe thead th {\n",
       "        text-align: right;\n",
       "    }\n",
       "</style>\n",
       "<table border=\"1\" class=\"dataframe\">\n",
       "  <thead>\n",
       "    <tr style=\"text-align: right;\">\n",
       "      <th></th>\n",
       "      <th>Name</th>\n",
       "      <th>EBITDA</th>\n",
       "    </tr>\n",
       "  </thead>\n",
       "  <tbody>\n",
       "    <tr>\n",
       "      <th>498</th>\n",
       "      <td>Xylem Inc.</td>\n",
       "      <td>1622.000000</td>\n",
       "    </tr>\n",
       "    <tr>\n",
       "      <th>499</th>\n",
       "      <td>Yum! Brands</td>\n",
       "      <td>2627.000064</td>\n",
       "    </tr>\n",
       "    <tr>\n",
       "      <th>500</th>\n",
       "      <td>Zebra Technologies</td>\n",
       "      <td>803.000000</td>\n",
       "    </tr>\n",
       "    <tr>\n",
       "      <th>501</th>\n",
       "      <td>Zimmer Biomet</td>\n",
       "      <td>2541.400064</td>\n",
       "    </tr>\n",
       "    <tr>\n",
       "      <th>502</th>\n",
       "      <td>Zoetis</td>\n",
       "      <td>3644.999936</td>\n",
       "    </tr>\n",
       "  </tbody>\n",
       "</table>\n",
       "</div>"
      ],
      "text/plain": [
       "                   Name       EBITDA\n",
       "498          Xylem Inc.  1622.000000\n",
       "499         Yum! Brands  2627.000064\n",
       "500  Zebra Technologies   803.000000\n",
       "501       Zimmer Biomet  2541.400064\n",
       "502              Zoetis  3644.999936"
      ]
     },
     "execution_count": 7,
     "metadata": {},
     "output_type": "execute_result"
    }
   ],
   "source": [
    "df['EBITDA'] = df['EBITDA'] / (10**6)\n",
    "df[['Name', 'EBITDA']].tail()"
   ]
  },
  {
   "cell_type": "code",
   "execution_count": null,
   "id": "958972e0-9ac8-48f9-9e03-c65c6fc09b24",
   "metadata": {},
   "outputs": [],
   "source": []
  },
  {
   "cell_type": "markdown",
   "id": "e05a445c-5eb7-4634-a03a-b1a2ce133a03",
   "metadata": {},
   "source": [
    "### Q2: Sector based data"
   ]
  },
  {
   "cell_type": "markdown",
   "id": "89cb45a5-3357-47ed-ae66-29049d97ba6e",
   "metadata": {},
   "source": [
    "#### Compute Average Price/Earnings and Average Market Cap for each sector."
   ]
  },
  {
   "cell_type": "markdown",
   "id": "f8ae404e-d29b-4f21-83d2-aa77d3ad498d",
   "metadata": {},
   "source": [
    "#### 2.1 Display top and bottom 5 by highest and lowest average Price/Earnings."
   ]
  },
  {
   "cell_type": "code",
   "execution_count": 8,
   "id": "c7315e7c-ea8b-4be5-8ce6-41c2f6a8c4a1",
   "metadata": {},
   "outputs": [],
   "source": [
    "top_5, bottom_5 = (df.groupby('Sector')['Price/Earnings'].mean().sort_values(ascending=False).reset_index(),\n",
    "                         df.groupby('Sector')['Price/Earnings'].mean().sort_values(ascending=True).reset_index())"
   ]
  },
  {
   "cell_type": "code",
   "execution_count": 9,
   "id": "138d35e9-fb8c-4395-a950-f2281ce37a36",
   "metadata": {},
   "outputs": [
    {
     "name": "stdout",
     "output_type": "stream",
     "text": [
      "Top 5 Companies by Highest Average P/E Ratio:\n",
      "\n"
     ]
    },
    {
     "data": {
      "text/html": [
       "<div>\n",
       "<style scoped>\n",
       "    .dataframe tbody tr th:only-of-type {\n",
       "        vertical-align: middle;\n",
       "    }\n",
       "\n",
       "    .dataframe tbody tr th {\n",
       "        vertical-align: top;\n",
       "    }\n",
       "\n",
       "    .dataframe thead th {\n",
       "        text-align: right;\n",
       "    }\n",
       "</style>\n",
       "<table border=\"1\" class=\"dataframe\">\n",
       "  <thead>\n",
       "    <tr style=\"text-align: right;\">\n",
       "      <th></th>\n",
       "      <th>Sector</th>\n",
       "      <th>Price/Earnings</th>\n",
       "    </tr>\n",
       "  </thead>\n",
       "  <tbody>\n",
       "    <tr>\n",
       "      <th>0</th>\n",
       "      <td>Regional Banks</td>\n",
       "      <td>inf</td>\n",
       "    </tr>\n",
       "    <tr>\n",
       "      <th>1</th>\n",
       "      <td>Biotechnology</td>\n",
       "      <td>180.085067</td>\n",
       "    </tr>\n",
       "    <tr>\n",
       "      <th>2</th>\n",
       "      <td>Other Specialized REITs</td>\n",
       "      <td>158.628220</td>\n",
       "    </tr>\n",
       "    <tr>\n",
       "      <th>3</th>\n",
       "      <td>Electronic Components</td>\n",
       "      <td>144.495470</td>\n",
       "    </tr>\n",
       "    <tr>\n",
       "      <th>4</th>\n",
       "      <td>Systems Software</td>\n",
       "      <td>123.407826</td>\n",
       "    </tr>\n",
       "  </tbody>\n",
       "</table>\n",
       "</div>"
      ],
      "text/plain": [
       "                    Sector  Price/Earnings\n",
       "0           Regional Banks             inf\n",
       "1            Biotechnology      180.085067\n",
       "2  Other Specialized REITs      158.628220\n",
       "3    Electronic Components      144.495470\n",
       "4         Systems Software      123.407826"
      ]
     },
     "execution_count": 9,
     "metadata": {},
     "output_type": "execute_result"
    }
   ],
   "source": [
    "print(\"Top 5 Companies by Highest Average P/E Ratio:\\n\")\n",
    "top_5.head()"
   ]
  },
  {
   "cell_type": "code",
   "execution_count": 10,
   "id": "424256b3-35da-43cb-9196-b396bfe402ae",
   "metadata": {},
   "outputs": [
    {
     "name": "stdout",
     "output_type": "stream",
     "text": [
      "\n",
      "Bottom 5 Companies by Lowest Average P/E Ratio:\n",
      "\n"
     ]
    },
    {
     "data": {
      "text/html": [
       "<div>\n",
       "<style scoped>\n",
       "    .dataframe tbody tr th:only-of-type {\n",
       "        vertical-align: middle;\n",
       "    }\n",
       "\n",
       "    .dataframe tbody tr th {\n",
       "        vertical-align: top;\n",
       "    }\n",
       "\n",
       "    .dataframe thead th {\n",
       "        text-align: right;\n",
       "    }\n",
       "</style>\n",
       "<table border=\"1\" class=\"dataframe\">\n",
       "  <thead>\n",
       "    <tr style=\"text-align: right;\">\n",
       "      <th></th>\n",
       "      <th>Sector</th>\n",
       "      <th>Price/Earnings</th>\n",
       "    </tr>\n",
       "  </thead>\n",
       "  <tbody>\n",
       "    <tr>\n",
       "      <th>0</th>\n",
       "      <td>Reinsurance</td>\n",
       "      <td>5.546007</td>\n",
       "    </tr>\n",
       "    <tr>\n",
       "      <th>1</th>\n",
       "      <td>Automotive Parts &amp; Equipment</td>\n",
       "      <td>6.306658</td>\n",
       "    </tr>\n",
       "    <tr>\n",
       "      <th>2</th>\n",
       "      <td>Passenger Airlines</td>\n",
       "      <td>8.631985</td>\n",
       "    </tr>\n",
       "    <tr>\n",
       "      <th>3</th>\n",
       "      <td>Brewers</td>\n",
       "      <td>9.994496</td>\n",
       "    </tr>\n",
       "    <tr>\n",
       "      <th>4</th>\n",
       "      <td>Agricultural Products &amp; Services</td>\n",
       "      <td>10.823465</td>\n",
       "    </tr>\n",
       "  </tbody>\n",
       "</table>\n",
       "</div>"
      ],
      "text/plain": [
       "                             Sector  Price/Earnings\n",
       "0                       Reinsurance        5.546007\n",
       "1      Automotive Parts & Equipment        6.306658\n",
       "2                Passenger Airlines        8.631985\n",
       "3                           Brewers        9.994496\n",
       "4  Agricultural Products & Services       10.823465"
      ]
     },
     "execution_count": 10,
     "metadata": {},
     "output_type": "execute_result"
    }
   ],
   "source": [
    "print(\"\\nBottom 5 Companies by Lowest Average P/E Ratio:\\n\")\n",
    "bottom_5.head()"
   ]
  },
  {
   "cell_type": "code",
   "execution_count": null,
   "id": "693fad5c-ee16-4422-8226-af247b11db9a",
   "metadata": {},
   "outputs": [],
   "source": []
  },
  {
   "cell_type": "markdown",
   "id": "bdd77e2d-11a8-452a-9804-4a3118eae7ef",
   "metadata": {},
   "source": [
    "#### 2.2 Display top and bottom 5 by highest and lowest average Market Cap."
   ]
  },
  {
   "cell_type": "code",
   "execution_count": 11,
   "id": "4a6ce99a-aa10-4ded-b888-f1a7a0dfaa20",
   "metadata": {},
   "outputs": [],
   "source": [
    "top_5_market_cap, bottom_5_market_cap = (df.groupby('Sector')['MarketCap'].mean().sort_values(ascending=False).reset_index(),\n",
    "                         df.groupby('Sector')['MarketCap'].mean().sort_values(ascending=True).reset_index())"
   ]
  },
  {
   "cell_type": "code",
   "execution_count": 12,
   "id": "e6571adc-b2ec-4f04-b295-23fa8166d02a",
   "metadata": {},
   "outputs": [
    {
     "name": "stdout",
     "output_type": "stream",
     "text": [
      "Top 5 Companies by Highest MarketCap:\n",
      "\n"
     ]
    },
    {
     "data": {
      "text/html": [
       "<div>\n",
       "<style scoped>\n",
       "    .dataframe tbody tr th:only-of-type {\n",
       "        vertical-align: middle;\n",
       "    }\n",
       "\n",
       "    .dataframe tbody tr th {\n",
       "        vertical-align: top;\n",
       "    }\n",
       "\n",
       "    .dataframe thead th {\n",
       "        text-align: right;\n",
       "    }\n",
       "</style>\n",
       "<table border=\"1\" class=\"dataframe\">\n",
       "  <thead>\n",
       "    <tr style=\"text-align: right;\">\n",
       "      <th></th>\n",
       "      <th>Sector</th>\n",
       "      <th>MarketCap</th>\n",
       "    </tr>\n",
       "  </thead>\n",
       "  <tbody>\n",
       "    <tr>\n",
       "      <th>0</th>\n",
       "      <td>Interactive Media &amp; Services</td>\n",
       "      <td>1413.093262</td>\n",
       "    </tr>\n",
       "    <tr>\n",
       "      <th>1</th>\n",
       "      <td>Broadline Retail</td>\n",
       "      <td>992.251071</td>\n",
       "    </tr>\n",
       "    <tr>\n",
       "      <th>2</th>\n",
       "      <td>Systems Software</td>\n",
       "      <td>581.440031</td>\n",
       "    </tr>\n",
       "    <tr>\n",
       "      <th>3</th>\n",
       "      <td>Technology Hardware, Storage &amp; Peripherals</td>\n",
       "      <td>459.413242</td>\n",
       "    </tr>\n",
       "    <tr>\n",
       "      <th>4</th>\n",
       "      <td>Semiconductors</td>\n",
       "      <td>348.379021</td>\n",
       "    </tr>\n",
       "  </tbody>\n",
       "</table>\n",
       "</div>"
      ],
      "text/plain": [
       "                                       Sector    MarketCap\n",
       "0                Interactive Media & Services  1413.093262\n",
       "1                            Broadline Retail   992.251071\n",
       "2                            Systems Software   581.440031\n",
       "3  Technology Hardware, Storage & Peripherals   459.413242\n",
       "4                              Semiconductors   348.379021"
      ]
     },
     "execution_count": 12,
     "metadata": {},
     "output_type": "execute_result"
    }
   ],
   "source": [
    "print(\"Top 5 Companies by Highest MarketCap:\\n\")\n",
    "top_5_market_cap.head()"
   ]
  },
  {
   "cell_type": "code",
   "execution_count": 13,
   "id": "af688339-a4fc-4eca-8b94-162e6483ae6f",
   "metadata": {},
   "outputs": [
    {
     "name": "stdout",
     "output_type": "stream",
     "text": [
      "\n",
      "Bottom 5 Companies by Lowest MarketCap:\n",
      "\n"
     ]
    },
    {
     "data": {
      "text/html": [
       "<div>\n",
       "<style scoped>\n",
       "    .dataframe tbody tr th:only-of-type {\n",
       "        vertical-align: middle;\n",
       "    }\n",
       "\n",
       "    .dataframe tbody tr th {\n",
       "        vertical-align: top;\n",
       "    }\n",
       "\n",
       "    .dataframe thead th {\n",
       "        text-align: right;\n",
       "    }\n",
       "</style>\n",
       "<table border=\"1\" class=\"dataframe\">\n",
       "  <thead>\n",
       "    <tr style=\"text-align: right;\">\n",
       "      <th></th>\n",
       "      <th>Sector</th>\n",
       "      <th>MarketCap</th>\n",
       "    </tr>\n",
       "  </thead>\n",
       "  <tbody>\n",
       "    <tr>\n",
       "      <th>0</th>\n",
       "      <td>Drug Retail</td>\n",
       "      <td>8.179277</td>\n",
       "    </tr>\n",
       "    <tr>\n",
       "      <th>1</th>\n",
       "      <td>Home Furnishings</td>\n",
       "      <td>8.539680</td>\n",
       "    </tr>\n",
       "    <tr>\n",
       "      <th>2</th>\n",
       "      <td>Leisure Products</td>\n",
       "      <td>9.292880</td>\n",
       "    </tr>\n",
       "    <tr>\n",
       "      <th>3</th>\n",
       "      <td>Brewers</td>\n",
       "      <td>11.499761</td>\n",
       "    </tr>\n",
       "    <tr>\n",
       "      <th>4</th>\n",
       "      <td>Automotive Parts &amp; Equipment</td>\n",
       "      <td>11.944294</td>\n",
       "    </tr>\n",
       "  </tbody>\n",
       "</table>\n",
       "</div>"
      ],
      "text/plain": [
       "                         Sector  MarketCap\n",
       "0                   Drug Retail   8.179277\n",
       "1              Home Furnishings   8.539680\n",
       "2              Leisure Products   9.292880\n",
       "3                       Brewers  11.499761\n",
       "4  Automotive Parts & Equipment  11.944294"
      ]
     },
     "execution_count": 13,
     "metadata": {},
     "output_type": "execute_result"
    }
   ],
   "source": [
    "print(\"\\nBottom 5 Companies by Lowest MarketCap:\\n\")\n",
    "bottom_5_market_cap.head()"
   ]
  },
  {
   "cell_type": "code",
   "execution_count": null,
   "id": "fb775dff-fe38-427a-8bf2-e9921678014f",
   "metadata": {},
   "outputs": [],
   "source": []
  },
  {
   "cell_type": "markdown",
   "id": "c80cc4bf-49b4-4634-92f7-4394c681f94e",
   "metadata": {},
   "source": [
    "### Q3: Companies with losses"
   ]
  },
  {
   "cell_type": "markdown",
   "id": "0417bf96-a3c5-4b47-8971-b2c6b6ee7ea9",
   "metadata": {},
   "source": [
    "#### Find list of companies that are not making any profits. Find 5 largest companies that are not are not profitable."
   ]
  },
  {
   "cell_type": "code",
   "execution_count": 14,
   "id": "e9ba404d-adbd-4b30-8e73-4d85ef592221",
   "metadata": {},
   "outputs": [
    {
     "data": {
      "text/html": [
       "<div>\n",
       "<style scoped>\n",
       "    .dataframe tbody tr th:only-of-type {\n",
       "        vertical-align: middle;\n",
       "    }\n",
       "\n",
       "    .dataframe tbody tr th {\n",
       "        vertical-align: top;\n",
       "    }\n",
       "\n",
       "    .dataframe thead th {\n",
       "        text-align: right;\n",
       "    }\n",
       "</style>\n",
       "<table border=\"1\" class=\"dataframe\">\n",
       "  <thead>\n",
       "    <tr style=\"text-align: right;\">\n",
       "      <th></th>\n",
       "      <th>Name</th>\n",
       "      <th>Sector</th>\n",
       "      <th>MarketCap</th>\n",
       "      <th>Earnings/Share</th>\n",
       "      <th>EBITDA</th>\n",
       "    </tr>\n",
       "  </thead>\n",
       "  <tbody>\n",
       "    <tr>\n",
       "      <th>67</th>\n",
       "      <td>Boeing</td>\n",
       "      <td>Aerospace &amp; Defense</td>\n",
       "      <td>112.739795</td>\n",
       "      <td>-12.95</td>\n",
       "      <td>-3991.000064</td>\n",
       "    </tr>\n",
       "    <tr>\n",
       "      <th>322</th>\n",
       "      <td>Moderna</td>\n",
       "      <td>Biotechnology</td>\n",
       "      <td>20.895767</td>\n",
       "      <td>-15.35</td>\n",
       "      <td>-4107.000064</td>\n",
       "    </tr>\n",
       "    <tr>\n",
       "      <th>13</th>\n",
       "      <td>Albemarle Corporation</td>\n",
       "      <td>Specialty Chemicals</td>\n",
       "      <td>11.226737</td>\n",
       "      <td>-4.72</td>\n",
       "      <td>-840.955008</td>\n",
       "    </tr>\n",
       "  </tbody>\n",
       "</table>\n",
       "</div>"
      ],
      "text/plain": [
       "                      Name               Sector   MarketCap  Earnings/Share  \\\n",
       "67                  Boeing  Aerospace & Defense  112.739795          -12.95   \n",
       "322                Moderna        Biotechnology   20.895767          -15.35   \n",
       "13   Albemarle Corporation  Specialty Chemicals   11.226737           -4.72   \n",
       "\n",
       "          EBITDA  \n",
       "67  -3991.000064  \n",
       "322 -4107.000064  \n",
       "13   -840.955008  "
      ]
     },
     "execution_count": 14,
     "metadata": {},
     "output_type": "execute_result"
    }
   ],
   "source": [
    "non_profitable_companies = df[(df['EBITDA'] <= 0)]\n",
    "largest_non_profitable_companies = non_profitable_companies.nlargest(5,'MarketCap')\n",
    "largest_non_profitable_companies[['Name', 'Sector','MarketCap', 'Earnings/Share', 'EBITDA']]"
   ]
  },
  {
   "cell_type": "markdown",
   "id": "d6b7c11f-8cc7-472d-b972-c6284f37db98",
   "metadata": {},
   "source": [
    "### Q4: Top 3 sectors in S&P"
   ]
  },
  {
   "cell_type": "markdown",
   "id": "ba18c787-bd8d-4506-80b2-265c47c2d75d",
   "metadata": {},
   "source": [
    "#### Compute count of companies for each sector and"
   ]
  },
  {
   "cell_type": "markdown",
   "id": "4d21192a-febe-4a33-aae7-e40772391f12",
   "metadata": {},
   "source": [
    "####  - display top 3 sectors with maximum number of companies"
   ]
  },
  {
   "cell_type": "markdown",
   "id": "3fbe8db0-ab2e-4c3f-81f4-aa5d93b6d070",
   "metadata": {},
   "source": [
    " without sorting using nlargest"
   ]
  },
  {
   "cell_type": "code",
   "execution_count": 15,
   "id": "d3917dd3-d6b5-40a0-bd53-7e1892141231",
   "metadata": {},
   "outputs": [
    {
     "data": {
      "text/html": [
       "<div>\n",
       "<style scoped>\n",
       "    .dataframe tbody tr th:only-of-type {\n",
       "        vertical-align: middle;\n",
       "    }\n",
       "\n",
       "    .dataframe tbody tr th {\n",
       "        vertical-align: top;\n",
       "    }\n",
       "\n",
       "    .dataframe thead th {\n",
       "        text-align: right;\n",
       "    }\n",
       "</style>\n",
       "<table border=\"1\" class=\"dataframe\">\n",
       "  <thead>\n",
       "    <tr style=\"text-align: right;\">\n",
       "      <th></th>\n",
       "      <th>Sector</th>\n",
       "      <th>NumberOfCompanies</th>\n",
       "    </tr>\n",
       "  </thead>\n",
       "  <tbody>\n",
       "    <tr>\n",
       "      <th>0</th>\n",
       "      <td>Health Care Equipment</td>\n",
       "      <td>18</td>\n",
       "    </tr>\n",
       "    <tr>\n",
       "      <th>1</th>\n",
       "      <td>Electric Utilities</td>\n",
       "      <td>15</td>\n",
       "    </tr>\n",
       "    <tr>\n",
       "      <th>2</th>\n",
       "      <td>Semiconductors</td>\n",
       "      <td>15</td>\n",
       "    </tr>\n",
       "  </tbody>\n",
       "</table>\n",
       "</div>"
      ],
      "text/plain": [
       "                  Sector  NumberOfCompanies\n",
       "0  Health Care Equipment                 18\n",
       "1     Electric Utilities                 15\n",
       "2         Semiconductors                 15"
      ]
     },
     "execution_count": 15,
     "metadata": {},
     "output_type": "execute_result"
    }
   ],
   "source": [
    "top_3_sector = df.groupby('Sector')['Name'].count().nlargest(3)\n",
    "top_3_sector = top_3_sector.reset_index()\n",
    "top_3_sector.columns = ['Sector', 'NumberOfCompanies']\n",
    "top_3_sector"
   ]
  },
  {
   "cell_type": "markdown",
   "id": "64d476a8-89a3-472e-b4c4-a7984f262ccb",
   "metadata": {},
   "source": [
    "or with sorting in descending order and using head"
   ]
  },
  {
   "cell_type": "code",
   "execution_count": 16,
   "id": "e2d1ba24-3fb6-475d-bdee-104374de9e98",
   "metadata": {},
   "outputs": [
    {
     "data": {
      "text/html": [
       "<div>\n",
       "<style scoped>\n",
       "    .dataframe tbody tr th:only-of-type {\n",
       "        vertical-align: middle;\n",
       "    }\n",
       "\n",
       "    .dataframe tbody tr th {\n",
       "        vertical-align: top;\n",
       "    }\n",
       "\n",
       "    .dataframe thead th {\n",
       "        text-align: right;\n",
       "    }\n",
       "</style>\n",
       "<table border=\"1\" class=\"dataframe\">\n",
       "  <thead>\n",
       "    <tr style=\"text-align: right;\">\n",
       "      <th></th>\n",
       "      <th>Sector</th>\n",
       "      <th>NumberOfCompanies</th>\n",
       "    </tr>\n",
       "  </thead>\n",
       "  <tbody>\n",
       "    <tr>\n",
       "      <th>0</th>\n",
       "      <td>Health Care Equipment</td>\n",
       "      <td>18</td>\n",
       "    </tr>\n",
       "    <tr>\n",
       "      <th>1</th>\n",
       "      <td>Semiconductors</td>\n",
       "      <td>15</td>\n",
       "    </tr>\n",
       "    <tr>\n",
       "      <th>2</th>\n",
       "      <td>Electric Utilities</td>\n",
       "      <td>15</td>\n",
       "    </tr>\n",
       "  </tbody>\n",
       "</table>\n",
       "</div>"
      ],
      "text/plain": [
       "                  Sector  NumberOfCompanies\n",
       "0  Health Care Equipment                 18\n",
       "1         Semiconductors                 15\n",
       "2     Electric Utilities                 15"
      ]
     },
     "execution_count": 16,
     "metadata": {},
     "output_type": "execute_result"
    }
   ],
   "source": [
    "top_3_sector = df.groupby('Sector')['Name'].count().sort_values(ascending=False).reset_index(name='NumberOfCompanies')\n",
    "top_3_sector.head(3)"
   ]
  },
  {
   "cell_type": "markdown",
   "id": "03cb0c68-5605-4a19-9f53-c9c7991c6176",
   "metadata": {},
   "source": [
    "or using value_counts and head"
   ]
  },
  {
   "cell_type": "code",
   "execution_count": 17,
   "id": "52a056a4-d89a-46ce-af5d-183743d3b68a",
   "metadata": {},
   "outputs": [
    {
     "data": {
      "text/html": [
       "<div>\n",
       "<style scoped>\n",
       "    .dataframe tbody tr th:only-of-type {\n",
       "        vertical-align: middle;\n",
       "    }\n",
       "\n",
       "    .dataframe tbody tr th {\n",
       "        vertical-align: top;\n",
       "    }\n",
       "\n",
       "    .dataframe thead th {\n",
       "        text-align: right;\n",
       "    }\n",
       "</style>\n",
       "<table border=\"1\" class=\"dataframe\">\n",
       "  <thead>\n",
       "    <tr style=\"text-align: right;\">\n",
       "      <th></th>\n",
       "      <th>Sector</th>\n",
       "      <th>NumberOfCompanies</th>\n",
       "    </tr>\n",
       "  </thead>\n",
       "  <tbody>\n",
       "    <tr>\n",
       "      <th>0</th>\n",
       "      <td>Health Care Equipment</td>\n",
       "      <td>18</td>\n",
       "    </tr>\n",
       "    <tr>\n",
       "      <th>1</th>\n",
       "      <td>Semiconductors</td>\n",
       "      <td>15</td>\n",
       "    </tr>\n",
       "    <tr>\n",
       "      <th>2</th>\n",
       "      <td>Electric Utilities</td>\n",
       "      <td>15</td>\n",
       "    </tr>\n",
       "  </tbody>\n",
       "</table>\n",
       "</div>"
      ],
      "text/plain": [
       "                  Sector  NumberOfCompanies\n",
       "0  Health Care Equipment                 18\n",
       "1         Semiconductors                 15\n",
       "2     Electric Utilities                 15"
      ]
     },
     "execution_count": 17,
     "metadata": {},
     "output_type": "execute_result"
    }
   ],
   "source": [
    "top_3_sector = df[\"Sector\"].value_counts().reset_index()\n",
    "top_3_sector.columns = [\"Sector\",\"NumberOfCompanies\"]\n",
    "top_3_sector.head(3)"
   ]
  },
  {
   "cell_type": "code",
   "execution_count": null,
   "id": "b6e3d534-b16b-41a3-a9da-ad530697d48b",
   "metadata": {},
   "outputs": [],
   "source": []
  },
  {
   "cell_type": "markdown",
   "id": "5bd76c4e-37bd-4da0-aaa9-a7d15c213d08",
   "metadata": {},
   "source": [
    "#### - display bottom 3 sectors with least number of companies"
   ]
  },
  {
   "cell_type": "markdown",
   "id": "5dfc59fc-0cba-45f2-9556-0b861afd6bec",
   "metadata": {},
   "source": [
    "without sorting using nsmallest"
   ]
  },
  {
   "cell_type": "code",
   "execution_count": 18,
   "id": "7f9272ec-5d7f-47f7-b197-96ef8a88b534",
   "metadata": {},
   "outputs": [
    {
     "data": {
      "text/html": [
       "<div>\n",
       "<style scoped>\n",
       "    .dataframe tbody tr th:only-of-type {\n",
       "        vertical-align: middle;\n",
       "    }\n",
       "\n",
       "    .dataframe tbody tr th {\n",
       "        vertical-align: top;\n",
       "    }\n",
       "\n",
       "    .dataframe thead th {\n",
       "        text-align: right;\n",
       "    }\n",
       "</style>\n",
       "<table border=\"1\" class=\"dataframe\">\n",
       "  <thead>\n",
       "    <tr style=\"text-align: right;\">\n",
       "      <th></th>\n",
       "      <th>Sector</th>\n",
       "      <th>NumberOfCompanies</th>\n",
       "    </tr>\n",
       "  </thead>\n",
       "  <tbody>\n",
       "    <tr>\n",
       "      <th>0</th>\n",
       "      <td>Agricultural &amp; Farm Machinery</td>\n",
       "      <td>1</td>\n",
       "    </tr>\n",
       "    <tr>\n",
       "      <th>1</th>\n",
       "      <td>Brewers</td>\n",
       "      <td>1</td>\n",
       "    </tr>\n",
       "    <tr>\n",
       "      <th>2</th>\n",
       "      <td>Commodity Chemicals</td>\n",
       "      <td>1</td>\n",
       "    </tr>\n",
       "  </tbody>\n",
       "</table>\n",
       "</div>"
      ],
      "text/plain": [
       "                          Sector  NumberOfCompanies\n",
       "0  Agricultural & Farm Machinery                  1\n",
       "1                        Brewers                  1\n",
       "2            Commodity Chemicals                  1"
      ]
     },
     "execution_count": 18,
     "metadata": {},
     "output_type": "execute_result"
    }
   ],
   "source": [
    "bottom_3_sector = df.groupby('Sector')['Name'].count().nsmallest(3)\n",
    "bottom_3_sector = bottom_3_sector.reset_index()\n",
    "bottom_3_sector.columns = ['Sector', 'NumberOfCompanies']\n",
    "bottom_3_sector"
   ]
  },
  {
   "cell_type": "markdown",
   "id": "c28ce8d0-2669-49e3-9674-f7dd025c27ac",
   "metadata": {},
   "source": [
    " or with sorting in ascending order and using head"
   ]
  },
  {
   "cell_type": "code",
   "execution_count": 19,
   "id": "aa2eae1d-a594-4f30-9faf-0ae1113017ce",
   "metadata": {},
   "outputs": [
    {
     "data": {
      "text/html": [
       "<div>\n",
       "<style scoped>\n",
       "    .dataframe tbody tr th:only-of-type {\n",
       "        vertical-align: middle;\n",
       "    }\n",
       "\n",
       "    .dataframe tbody tr th {\n",
       "        vertical-align: top;\n",
       "    }\n",
       "\n",
       "    .dataframe thead th {\n",
       "        text-align: right;\n",
       "    }\n",
       "</style>\n",
       "<table border=\"1\" class=\"dataframe\">\n",
       "  <thead>\n",
       "    <tr style=\"text-align: right;\">\n",
       "      <th></th>\n",
       "      <th>Sector</th>\n",
       "      <th>NumberOfCompanies</th>\n",
       "    </tr>\n",
       "  </thead>\n",
       "  <tbody>\n",
       "    <tr>\n",
       "      <th>0</th>\n",
       "      <td>Wireless Telecommunication Services</td>\n",
       "      <td>1</td>\n",
       "    </tr>\n",
       "    <tr>\n",
       "      <th>1</th>\n",
       "      <td>Commodity Chemicals</td>\n",
       "      <td>1</td>\n",
       "    </tr>\n",
       "    <tr>\n",
       "      <th>2</th>\n",
       "      <td>Leisure Products</td>\n",
       "      <td>1</td>\n",
       "    </tr>\n",
       "  </tbody>\n",
       "</table>\n",
       "</div>"
      ],
      "text/plain": [
       "                                Sector  NumberOfCompanies\n",
       "0  Wireless Telecommunication Services                  1\n",
       "1                  Commodity Chemicals                  1\n",
       "2                     Leisure Products                  1"
      ]
     },
     "execution_count": 19,
     "metadata": {},
     "output_type": "execute_result"
    }
   ],
   "source": [
    "bottom_3_sector = df.groupby('Sector')['Name'].count().sort_values(ascending=True).reset_index(name='NumberOfCompanies')\n",
    "bottom_3_sector.head(3)"
   ]
  },
  {
   "cell_type": "markdown",
   "id": "f7ccc5ec-3578-46d7-9eee-585bef193b51",
   "metadata": {},
   "source": [
    "or using value_counts and tail"
   ]
  },
  {
   "cell_type": "code",
   "execution_count": 20,
   "id": "40779b0e-be19-4103-8eec-a9f525c09caf",
   "metadata": {},
   "outputs": [
    {
     "data": {
      "text/html": [
       "<div>\n",
       "<style scoped>\n",
       "    .dataframe tbody tr th:only-of-type {\n",
       "        vertical-align: middle;\n",
       "    }\n",
       "\n",
       "    .dataframe tbody tr th {\n",
       "        vertical-align: top;\n",
       "    }\n",
       "\n",
       "    .dataframe thead th {\n",
       "        text-align: right;\n",
       "    }\n",
       "</style>\n",
       "<table border=\"1\" class=\"dataframe\">\n",
       "  <thead>\n",
       "    <tr style=\"text-align: right;\">\n",
       "      <th></th>\n",
       "      <th>Sector</th>\n",
       "      <th>NumberOfCompanies</th>\n",
       "    </tr>\n",
       "  </thead>\n",
       "  <tbody>\n",
       "    <tr>\n",
       "      <th>124</th>\n",
       "      <td>Multi-Sector Holdings</td>\n",
       "      <td>1</td>\n",
       "    </tr>\n",
       "    <tr>\n",
       "      <th>125</th>\n",
       "      <td>Metal, Glass &amp; Plastic Containers</td>\n",
       "      <td>1</td>\n",
       "    </tr>\n",
       "    <tr>\n",
       "      <th>126</th>\n",
       "      <td>Timber REITs</td>\n",
       "      <td>1</td>\n",
       "    </tr>\n",
       "  </tbody>\n",
       "</table>\n",
       "</div>"
      ],
      "text/plain": [
       "                                Sector  NumberOfCompanies\n",
       "124              Multi-Sector Holdings                  1\n",
       "125  Metal, Glass & Plastic Containers                  1\n",
       "126                       Timber REITs                  1"
      ]
     },
     "execution_count": 20,
     "metadata": {},
     "output_type": "execute_result"
    }
   ],
   "source": [
    "bottom_3_sector = df[\"Sector\"].value_counts().reset_index()\n",
    "bottom_3_sector.columns = [\"Sector\",\"NumberOfCompanies\"]\n",
    "bottom_3_sector.tail(3)"
   ]
  },
  {
   "cell_type": "code",
   "execution_count": null,
   "id": "579e4904-ea9b-479a-a00b-bcf722e72288",
   "metadata": {},
   "outputs": [],
   "source": []
  },
  {
   "cell_type": "markdown",
   "id": "130eb990-377c-472b-8e38-4317863dce4e",
   "metadata": {},
   "source": [
    "### Q5: Find largest and smallest 3 companies by \"Market Cap\"\n",
    " "
   ]
  },
  {
   "cell_type": "code",
   "execution_count": 21,
   "id": "fed933fc-f3f5-4ecc-b6b6-063b4e2a4141",
   "metadata": {},
   "outputs": [
    {
     "data": {
      "text/html": [
       "<div>\n",
       "<style scoped>\n",
       "    .dataframe tbody tr th:only-of-type {\n",
       "        vertical-align: middle;\n",
       "    }\n",
       "\n",
       "    .dataframe tbody tr th {\n",
       "        vertical-align: top;\n",
       "    }\n",
       "\n",
       "    .dataframe thead th {\n",
       "        text-align: right;\n",
       "    }\n",
       "</style>\n",
       "<table border=\"1\" class=\"dataframe\">\n",
       "  <thead>\n",
       "    <tr style=\"text-align: right;\">\n",
       "      <th></th>\n",
       "      <th>Symbol</th>\n",
       "      <th>Name</th>\n",
       "      <th>MarketCap</th>\n",
       "    </tr>\n",
       "  </thead>\n",
       "  <tbody>\n",
       "    <tr>\n",
       "      <th>0</th>\n",
       "      <td>AAPL</td>\n",
       "      <td>Apple Inc.</td>\n",
       "      <td>3434.758275</td>\n",
       "    </tr>\n",
       "    <tr>\n",
       "      <th>1</th>\n",
       "      <td>NVDA</td>\n",
       "      <td>Nvidia</td>\n",
       "      <td>3256.602591</td>\n",
       "    </tr>\n",
       "    <tr>\n",
       "      <th>2</th>\n",
       "      <td>MSFT</td>\n",
       "      <td>Microsoft</td>\n",
       "      <td>3021.163463</td>\n",
       "    </tr>\n",
       "  </tbody>\n",
       "</table>\n",
       "</div>"
      ],
      "text/plain": [
       "  Symbol        Name    MarketCap\n",
       "0   AAPL  Apple Inc.  3434.758275\n",
       "1   NVDA      Nvidia  3256.602591\n",
       "2   MSFT   Microsoft  3021.163463"
      ]
     },
     "execution_count": 21,
     "metadata": {},
     "output_type": "execute_result"
    }
   ],
   "source": [
    "largest_marketCap = df.nlargest(3, 'MarketCap')\n",
    "largest_marketCap = largest_marketCap[['Symbol','Name', 'MarketCap']].reset_index(drop=True)\n",
    "largest_marketCap"
   ]
  },
  {
   "cell_type": "code",
   "execution_count": 22,
   "id": "324e17aa-6f4c-45d6-b597-92c013d4cb8c",
   "metadata": {},
   "outputs": [
    {
     "data": {
      "text/html": [
       "<div>\n",
       "<style scoped>\n",
       "    .dataframe tbody tr th:only-of-type {\n",
       "        vertical-align: middle;\n",
       "    }\n",
       "\n",
       "    .dataframe tbody tr th {\n",
       "        vertical-align: top;\n",
       "    }\n",
       "\n",
       "    .dataframe thead th {\n",
       "        text-align: right;\n",
       "    }\n",
       "</style>\n",
       "<table border=\"1\" class=\"dataframe\">\n",
       "  <thead>\n",
       "    <tr style=\"text-align: right;\">\n",
       "      <th></th>\n",
       "      <th>Symbol</th>\n",
       "      <th>Name</th>\n",
       "      <th>MarketCap</th>\n",
       "    </tr>\n",
       "  </thead>\n",
       "  <tbody>\n",
       "    <tr>\n",
       "      <th>0</th>\n",
       "      <td>QRVO</td>\n",
       "      <td>Qorvo</td>\n",
       "      <td>6.922011</td>\n",
       "    </tr>\n",
       "    <tr>\n",
       "      <th>1</th>\n",
       "      <td>AMTM</td>\n",
       "      <td>Amentum</td>\n",
       "      <td>7.235802</td>\n",
       "    </tr>\n",
       "    <tr>\n",
       "      <th>2</th>\n",
       "      <td>BWA</td>\n",
       "      <td>BorgWarner</td>\n",
       "      <td>7.659871</td>\n",
       "    </tr>\n",
       "  </tbody>\n",
       "</table>\n",
       "</div>"
      ],
      "text/plain": [
       "  Symbol        Name  MarketCap\n",
       "0   QRVO       Qorvo   6.922011\n",
       "1   AMTM     Amentum   7.235802\n",
       "2    BWA  BorgWarner   7.659871"
      ]
     },
     "execution_count": 22,
     "metadata": {},
     "output_type": "execute_result"
    }
   ],
   "source": [
    "smallest_marketCap = df.nsmallest(3, 'MarketCap')\n",
    "smallest_marketCap = smallest_marketCap[['Symbol','Name', 'MarketCap']].reset_index(drop=True)\n",
    "smallest_marketCap"
   ]
  },
  {
   "cell_type": "markdown",
   "id": "02d1c559-abd0-4e55-9d3a-3ec23e099142",
   "metadata": {},
   "source": [
    "## --end--"
   ]
  }
 ],
 "metadata": {
  "kernelspec": {
   "display_name": "Python 3 (ipykernel)",
   "language": "python",
   "name": "python3"
  },
  "language_info": {
   "codemirror_mode": {
    "name": "ipython",
    "version": 3
   },
   "file_extension": ".py",
   "mimetype": "text/x-python",
   "name": "python",
   "nbconvert_exporter": "python",
   "pygments_lexer": "ipython3",
   "version": "3.12.5"
  }
 },
 "nbformat": 4,
 "nbformat_minor": 5
}
